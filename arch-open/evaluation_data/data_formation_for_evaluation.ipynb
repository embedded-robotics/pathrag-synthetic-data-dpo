{
 "cells": [
  {
   "cell_type": "code",
   "execution_count": null,
   "metadata": {},
   "outputs": [],
   "source": [
    "import json\n",
    "import os\n",
    "import shutil\n",
    "import pandas as pd"
   ]
  },
  {
   "cell_type": "markdown",
   "metadata": {},
   "source": [
    "### Creating the folder for ARCH-Open Evaluation"
   ]
  },
  {
   "cell_type": "code",
   "execution_count": 2,
   "metadata": {},
   "outputs": [],
   "source": [
    "arch_open_path = 'arch-open-evaluation'\n",
    "\n",
    "# Check if the path exists already and remove the directory\n",
    "if os.path.isdir(arch_open_path):\n",
    "    shutil.rmtree(arch_open_path)\n",
    "\n",
    "# Create a new folder for ARCH Open\n",
    "os.mkdir(arch_open_path)"
   ]
  },
  {
   "cell_type": "markdown",
   "metadata": {},
   "source": [
    "Defining the lists we want to be in the sheet"
   ]
  },
  {
   "cell_type": "code",
   "execution_count": 3,
   "metadata": {},
   "outputs": [],
   "source": [
    "image_source = []\n",
    "original_image_label = []\n",
    "changed_image_label = []\n",
    "original_caption = []\n",
    "question = []\n",
    "answer = []"
   ]
  },
  {
   "cell_type": "markdown",
   "metadata": {},
   "source": [
    "### Pubmed Data"
   ]
  },
  {
   "cell_type": "markdown",
   "metadata": {},
   "source": [
    "Creating the folder for Pubmed Data"
   ]
  },
  {
   "cell_type": "code",
   "execution_count": 4,
   "metadata": {},
   "outputs": [],
   "source": [
    "pubmed_path = os.path.join(arch_open_path, 'pubmed_images')\n",
    "\n",
    "# Check if the path exists already and remove the directory\n",
    "if os.path.isdir(pubmed_path):\n",
    "    shutil.rmtree(pubmed_path)\n",
    "\n",
    "# Create a new folder for ARCH Open\n",
    "os.mkdir(pubmed_path)"
   ]
  },
  {
   "cell_type": "markdown",
   "metadata": {},
   "source": [
    "Reading the data and images names to store them into the directory"
   ]
  },
  {
   "cell_type": "code",
   "execution_count": 5,
   "metadata": {},
   "outputs": [],
   "source": [
    "pubmed_image_path = os.path.join(\"data\", \"pubmed_set\", \"images\")\n",
    "\n",
    "with open('pubmed_qa_pairs.json', 'rb') as file:\n",
    "    pubmed_data = json.load(file)"
   ]
  },
  {
   "cell_type": "markdown",
   "metadata": {},
   "source": [
    "Creating the list of data"
   ]
  },
  {
   "cell_type": "code",
   "execution_count": 6,
   "metadata": {},
   "outputs": [],
   "source": [
    "pubmed_original_image_label = []\n",
    "pubmed_changed_image_label = []\n",
    "\n",
    "for data_idx in range(0, 200):\n",
    "    data = pubmed_data[data_idx]\n",
    "\n",
    "    for i in range(1,6):\n",
    "        image_source.append('PubMed')\n",
    "        pubmed_original_image_label.append(data['uuid'])\n",
    "        pubmed_changed_image_label.append('pubmed_image_' + str(data_idx))\n",
    "        original_caption.append(data['caption'])\n",
    "        question.append(data['Question_' + str(i)])\n",
    "        answer.append(data['Answer_' + str(i)])"
   ]
  },
  {
   "cell_type": "markdown",
   "metadata": {},
   "source": [
    "Copying the image files"
   ]
  },
  {
   "cell_type": "code",
   "execution_count": 7,
   "metadata": {},
   "outputs": [],
   "source": [
    "img_original_name = list(set(pubmed_original_image_label))\n",
    "img_changed_name = list(set(pubmed_changed_image_label))\n",
    "\n",
    "for i in range(0, len(img_original_name)):\n",
    "    \n",
    "    if os.path.isfile(os.path.join(pubmed_image_path, img_original_name[i] + '.jpg')):\n",
    "        img_path = os.path.join(pubmed_image_path, img_original_name[i] + '.jpg')\n",
    "        rename_img_path = os.path.join(pubmed_path, img_changed_name[i] + '.jpg')\n",
    "    elif os.path.isfile(os.path.join(pubmed_image_path, img_original_name[i] + '.png')):\n",
    "        img_path = os.path.join(pubmed_image_path, img_original_name[i] + '.png')\n",
    "        rename_img_path = os.path.join(pubmed_path, img_changed_name[i] + '.png')\n",
    "    else:\n",
    "        img_path = ''\n",
    "        rename_img_path = ''\n",
    "        \n",
    "    shutil.copyfile(img_path, rename_img_path)"
   ]
  },
  {
   "cell_type": "markdown",
   "metadata": {},
   "source": [
    "### Textbook Data"
   ]
  },
  {
   "cell_type": "markdown",
   "metadata": {},
   "source": [
    "Creating the folder for Textbook Data"
   ]
  },
  {
   "cell_type": "code",
   "execution_count": 8,
   "metadata": {},
   "outputs": [],
   "source": [
    "textbook_path = os.path.join(arch_open_path, 'textbook_images')\n",
    "\n",
    "# Check if the path exists already and remove the directory\n",
    "if os.path.isdir(textbook_path):\n",
    "    shutil.rmtree(textbook_path)\n",
    "\n",
    "# Create a new folder for ARCH Open\n",
    "os.mkdir(textbook_path)"
   ]
  },
  {
   "cell_type": "markdown",
   "metadata": {},
   "source": [
    "Reading the data and images names to store them into the directory"
   ]
  },
  {
   "cell_type": "code",
   "execution_count": 9,
   "metadata": {},
   "outputs": [],
   "source": [
    "textbook_image_path = os.path.join(\"data\", \"books_set\", \"images\")\n",
    "\n",
    "with open('textbook_qa_pairs.json', 'rb') as file:\n",
    "    textbook_data = json.load(file)"
   ]
  },
  {
   "cell_type": "markdown",
   "metadata": {},
   "source": [
    "Creating the list of data"
   ]
  },
  {
   "cell_type": "code",
   "execution_count": 10,
   "metadata": {},
   "outputs": [],
   "source": [
    "textbook_original_image_label = []\n",
    "textbook_changed_image_label = []\n",
    "\n",
    "for data_idx in range(0, 200):\n",
    "    data = textbook_data[data_idx]\n",
    "\n",
    "    for i in range(1,6):\n",
    "        image_source.append('Textbook')\n",
    "        textbook_original_image_label.append(data['uuid'])\n",
    "        textbook_changed_image_label.append('textbook_image_' + str(data_idx))\n",
    "        original_caption.append(data['caption'])\n",
    "        question.append(data['Question_' + str(i)])\n",
    "        answer.append(data['Answer_' + str(i)])"
   ]
  },
  {
   "cell_type": "markdown",
   "metadata": {},
   "source": [
    "Copying the image files"
   ]
  },
  {
   "cell_type": "code",
   "execution_count": 11,
   "metadata": {},
   "outputs": [
    {
     "name": "stdout",
     "output_type": "stream",
     "text": [
      "24\n",
      "103\n",
      "159\n",
      "199\n"
     ]
    }
   ],
   "source": [
    "img_original_name = list(set(textbook_original_image_label))\n",
    "img_changed_name = list(set(textbook_changed_image_label))\n",
    "\n",
    "for i in range(0, len(img_original_name)):\n",
    "    if os.path.isfile(os.path.join(textbook_image_path, img_original_name[i] + '.jpg')):\n",
    "        img_path = os.path.join(textbook_image_path, img_original_name[i] + '.jpg')\n",
    "        rename_img_path = os.path.join(textbook_path, img_changed_name[i] + '.jpg')\n",
    "    elif os.path.isfile(os.path.join(textbook_image_path, img_original_name[i] + '.png')):\n",
    "        img_path = os.path.join(textbook_image_path, img_original_name[i] + '.png')\n",
    "        rename_img_path = os.path.join(textbook_path, img_changed_name[i] + '.png')\n",
    "    else:\n",
    "        img_path = ''\n",
    "        rename_img_path = ''\n",
    "        print(i)\n",
    "        continue\n",
    "        \n",
    "    shutil.copyfile(img_path, rename_img_path)"
   ]
  },
  {
   "cell_type": "markdown",
   "metadata": {},
   "source": [
    "Combining the labels for pubmed and textbook"
   ]
  },
  {
   "cell_type": "code",
   "execution_count": 12,
   "metadata": {},
   "outputs": [],
   "source": [
    "original_image_label = pubmed_original_image_label + textbook_original_image_label\n",
    "changed_image_label = pubmed_changed_image_label + textbook_changed_image_label"
   ]
  },
  {
   "cell_type": "markdown",
   "metadata": {},
   "source": [
    "### Now combining all the data and saving it in excel file"
   ]
  },
  {
   "cell_type": "code",
   "execution_count": 13,
   "metadata": {},
   "outputs": [],
   "source": [
    "final_df = pd.DataFrame({'Image Source': image_source, 'Original image Label': original_image_label, 'Changed Image Label': changed_image_label,\n",
    "              'Original Caption': original_caption, 'Question': question, 'Answer': answer})"
   ]
  },
  {
   "cell_type": "code",
   "execution_count": 14,
   "metadata": {},
   "outputs": [],
   "source": [
    "final_df.to_excel('arch-open-evaluation.xlsx')"
   ]
  }
 ],
 "metadata": {
  "kernelspec": {
   "display_name": "path-rag-dpo",
   "language": "python",
   "name": "python3"
  },
  "language_info": {
   "codemirror_mode": {
    "name": "ipython",
    "version": 3
   },
   "file_extension": ".py",
   "mimetype": "text/x-python",
   "name": "python",
   "nbconvert_exporter": "python",
   "pygments_lexer": "ipython3",
   "version": "3.12.4"
  }
 },
 "nbformat": 4,
 "nbformat_minor": 2
}
