{
 "cells": [
  {
   "cell_type": "code",
   "execution_count": 1,
   "metadata": {},
   "outputs": [],
   "source": [
    "import sys\n",
    "\n",
    "HISTO_PATH = \"/data/mn27889/pathrag-synthetic-data-dpo/histocartography\"\n",
    "PVQA_DATA_PATH = \"/data/mn27889/pathrag-synthetic-data-dpo/data/pvqa\"\n",
    "PVQA_EVAL_DATA_PATH = \"/data/mn27889/pathrag-synthetic-data-dpo/path-vqa/evaluation_data/pvqa_evaluation/images\"\n",
    "\n",
    "sys.path.insert(0, HISTO_PATH)"
   ]
  },
  {
   "cell_type": "code",
   "execution_count": 2,
   "metadata": {},
   "outputs": [
    {
     "name": "stderr",
     "output_type": "stream",
     "text": [
      "/data/mn27889/miniconda3/envs/path-rag/lib/python3.9/site-packages/tqdm/auto.py:21: TqdmWarning: IProgress not found. Please update jupyter and ipywidgets. See https://ipywidgets.readthedocs.io/en/stable/user_install.html\n",
      "  from .autonotebook import tqdm as notebook_tqdm\n",
      "/data/mn27889/miniconda3/envs/path-rag/lib/python3.9/site-packages/torchdata/datapipes/__init__.py:18: UserWarning: \n",
      "################################################################################\n",
      "WARNING!\n",
      "The 'datapipes', 'dataloader2' modules are deprecated and will be removed in a\n",
      "future torchdata release! Please see https://github.com/pytorch/data/issues/1196\n",
      "to learn more and leave feedback.\n",
      "################################################################################\n",
      "\n",
      "  deprecation_warning()\n"
     ]
    }
   ],
   "source": [
    "from PIL import Image\n",
    "import numpy as np\n",
    "import os\n",
    "import pickle\n",
    "from histocartography.preprocessing import NucleiExtractor\n",
    "import shutil\n",
    "import pandas as pd"
   ]
  },
  {
   "cell_type": "markdown",
   "metadata": {},
   "source": [
    "### Nuclei Detector to identify the H&E stained images"
   ]
  },
  {
   "cell_type": "code",
   "execution_count": 3,
   "metadata": {},
   "outputs": [
    {
     "name": "stdout",
     "output_type": "stream",
     "text": [
      "File already downloaded.\n",
      "/data/mn27889/pathrag-synthetic-data-dpo/histocartography/histocartography/preprocessing/../../checkpoints/pannuke.pt\n"
     ]
    },
    {
     "name": "stderr",
     "output_type": "stream",
     "text": [
      "/data/mn27889/miniconda3/envs/path-rag/lib/python3.9/site-packages/torch/serialization.py:1113: SourceChangeWarning: source code of class 'histocartography.ml.models.hovernet.HoverNet' has changed. you can retrieve the original source code by accessing the object's source attribute or set `torch.nn.Module.dump_patches = True` and use the patch tool to revert the changes.\n",
      "  warnings.warn(msg, SourceChangeWarning)\n",
      "/data/mn27889/miniconda3/envs/path-rag/lib/python3.9/site-packages/torch/serialization.py:1113: SourceChangeWarning: source code of class 'histocartography.ml.models.hovernet.Encoder' has changed. you can retrieve the original source code by accessing the object's source attribute or set `torch.nn.Module.dump_patches = True` and use the patch tool to revert the changes.\n",
      "  warnings.warn(msg, SourceChangeWarning)\n",
      "/data/mn27889/miniconda3/envs/path-rag/lib/python3.9/site-packages/torch/serialization.py:1113: SourceChangeWarning: source code of class 'histocartography.ml.models.hovernet.Conv2dWithActivation' has changed. you can retrieve the original source code by accessing the object's source attribute or set `torch.nn.Module.dump_patches = True` and use the patch tool to revert the changes.\n",
      "  warnings.warn(msg, SourceChangeWarning)\n",
      "/data/mn27889/miniconda3/envs/path-rag/lib/python3.9/site-packages/torch/serialization.py:1113: SourceChangeWarning: source code of class 'torch.nn.modules.conv.Conv2d' has changed. you can retrieve the original source code by accessing the object's source attribute or set `torch.nn.Module.dump_patches = True` and use the patch tool to revert the changes.\n",
      "  warnings.warn(msg, SourceChangeWarning)\n",
      "/data/mn27889/miniconda3/envs/path-rag/lib/python3.9/site-packages/torch/serialization.py:1113: SourceChangeWarning: source code of class 'histocartography.ml.models.hovernet.BNReLU' has changed. you can retrieve the original source code by accessing the object's source attribute or set `torch.nn.Module.dump_patches = True` and use the patch tool to revert the changes.\n",
      "  warnings.warn(msg, SourceChangeWarning)\n",
      "/data/mn27889/miniconda3/envs/path-rag/lib/python3.9/site-packages/torch/serialization.py:1113: SourceChangeWarning: source code of class 'torch.nn.modules.batchnorm.BatchNorm2d' has changed. you can retrieve the original source code by accessing the object's source attribute or set `torch.nn.Module.dump_patches = True` and use the patch tool to revert the changes.\n",
      "  warnings.warn(msg, SourceChangeWarning)\n",
      "/data/mn27889/miniconda3/envs/path-rag/lib/python3.9/site-packages/torch/serialization.py:1113: SourceChangeWarning: source code of class 'torch.nn.modules.activation.ReLU' has changed. you can retrieve the original source code by accessing the object's source attribute or set `torch.nn.Module.dump_patches = True` and use the patch tool to revert the changes.\n",
      "  warnings.warn(msg, SourceChangeWarning)\n",
      "/data/mn27889/miniconda3/envs/path-rag/lib/python3.9/site-packages/torch/serialization.py:1113: SourceChangeWarning: source code of class 'histocartography.ml.models.hovernet.ResidualBlock' has changed. you can retrieve the original source code by accessing the object's source attribute or set `torch.nn.Module.dump_patches = True` and use the patch tool to revert the changes.\n",
      "  warnings.warn(msg, SourceChangeWarning)\n",
      "/data/mn27889/miniconda3/envs/path-rag/lib/python3.9/site-packages/torch/serialization.py:1113: SourceChangeWarning: source code of class 'histocartography.ml.models.hovernet.SamepaddingLayer' has changed. you can retrieve the original source code by accessing the object's source attribute or set `torch.nn.Module.dump_patches = True` and use the patch tool to revert the changes.\n",
      "  warnings.warn(msg, SourceChangeWarning)\n",
      "/data/mn27889/miniconda3/envs/path-rag/lib/python3.9/site-packages/torch/serialization.py:1113: SourceChangeWarning: source code of class 'histocartography.ml.models.hovernet.Decoder' has changed. you can retrieve the original source code by accessing the object's source attribute or set `torch.nn.Module.dump_patches = True` and use the patch tool to revert the changes.\n",
      "  warnings.warn(msg, SourceChangeWarning)\n",
      "/data/mn27889/miniconda3/envs/path-rag/lib/python3.9/site-packages/torch/serialization.py:1113: SourceChangeWarning: source code of class 'histocartography.ml.models.hovernet.Upsample2x' has changed. you can retrieve the original source code by accessing the object's source attribute or set `torch.nn.Module.dump_patches = True` and use the patch tool to revert the changes.\n",
      "  warnings.warn(msg, SourceChangeWarning)\n",
      "/data/mn27889/miniconda3/envs/path-rag/lib/python3.9/site-packages/torch/serialization.py:1113: SourceChangeWarning: source code of class 'torch.nn.modules.upsampling.Upsample' has changed. you can retrieve the original source code by accessing the object's source attribute or set `torch.nn.Module.dump_patches = True` and use the patch tool to revert the changes.\n",
      "  warnings.warn(msg, SourceChangeWarning)\n",
      "/data/mn27889/miniconda3/envs/path-rag/lib/python3.9/site-packages/torch/serialization.py:1113: SourceChangeWarning: source code of class 'histocartography.ml.models.hovernet.DenseBlock' has changed. you can retrieve the original source code by accessing the object's source attribute or set `torch.nn.Module.dump_patches = True` and use the patch tool to revert the changes.\n",
      "  warnings.warn(msg, SourceChangeWarning)\n"
     ]
    }
   ],
   "source": [
    "nuclei_detector = NucleiExtractor()"
   ]
  },
  {
   "cell_type": "markdown",
   "metadata": {},
   "source": [
    "### PathVQA Evaluation Dataset"
   ]
  },
  {
   "cell_type": "code",
   "execution_count": 4,
   "metadata": {},
   "outputs": [],
   "source": [
    "img_val_path = os.path.join(PVQA_DATA_PATH, \"images/val\")\n",
    "qas_val_path = os.path.join(PVQA_DATA_PATH, \"qas/val/val_qa.pkl\")\n",
    "with open(qas_val_path, 'rb') as file:\n",
    "    pvqa_val_qas = pickle.load(file)"
   ]
  },
  {
   "cell_type": "code",
   "execution_count": 5,
   "metadata": {},
   "outputs": [],
   "source": [
    "# Reading only open-ended questions/answers\n",
    "qas_general = [qas for qas in pvqa_val_qas if qas['answer'] != 'yes' and qas['answer'] != 'no']\n",
    "\n",
    "# Sorting the VQA pairs by name of the image\n",
    "qas_general = sorted(qas_general, key=lambda d: d['image'])\n",
    "\n",
    "# Getting the image labels\n",
    "img_general = [qas['image'] for qas in qas_general]\n",
    "\n",
    "# Preparing the unique image labels\n",
    "img_general = list(set(img_general))\n",
    "img_general = sorted(img_general, key=str)\n",
    "\n",
    "# Appending to path \n",
    "img_general_path = [os.path.join(img_val_path, img_name + '.jpg') for img_name in img_general]"
   ]
  },
  {
   "cell_type": "markdown",
   "metadata": {},
   "source": [
    "### Extracting all the H&E stained images"
   ]
  },
  {
   "cell_type": "markdown",
   "metadata": {},
   "source": [
    "For this, use the Nuclei count and only consider the images whose nuclei count is greater than 5 to be the H&E stained images"
   ]
  },
  {
   "cell_type": "code",
   "execution_count": 6,
   "metadata": {},
   "outputs": [],
   "source": [
    "he_img_general = []\n",
    "he_img_general_path = []\n",
    "\n",
    "for img_index in range(len(img_general_path)):\n",
    "    query_img = Image.open(img_general_path[img_index]).convert(mode=\"RGB\")\n",
    "    image = np.array(query_img)\n",
    "    # nuclei_map, nuclei_centers = nuclei_detector.process(image)\n",
    "\n",
    "    # Only consider if more than 5 nuclei are detected since knn needs to form a graph using 5 neighbors.\n",
    "    # If less than 5 nuclei are present, most of the images are not pathology related\n",
    "    # if nuclei_centers.shape[0] > 5:\n",
    "    if True:\n",
    "        he_img_general.append(img_general[img_index])\n",
    "        he_img_general_path.append(img_general_path[img_index])"
   ]
  },
  {
   "cell_type": "markdown",
   "metadata": {},
   "source": [
    "Now extract all the questions which are related to H&E stained images"
   ]
  },
  {
   "cell_type": "code",
   "execution_count": 7,
   "metadata": {},
   "outputs": [],
   "source": [
    "he_qas_general = [qas for qas in qas_general if qas['image'] in he_img_general]"
   ]
  },
  {
   "cell_type": "markdown",
   "metadata": {},
   "source": [
    "Creating the list of data"
   ]
  },
  {
   "cell_type": "code",
   "execution_count": 8,
   "metadata": {},
   "outputs": [],
   "source": [
    "image_id = []\n",
    "question = []\n",
    "answer = []\n",
    "\n",
    "for qas_index in range(len(he_qas_general)):\n",
    "    image_id.append(he_qas_general[qas_index]['image'])\n",
    "    question.append(he_qas_general[qas_index]['question'])\n",
    "    answer.append(he_qas_general[qas_index]['answer'])"
   ]
  },
  {
   "cell_type": "markdown",
   "metadata": {},
   "source": [
    "Copying the image files"
   ]
  },
  {
   "cell_type": "code",
   "execution_count": 9,
   "metadata": {},
   "outputs": [],
   "source": [
    "for img_index in range(len(he_img_general_path)):\n",
    "    \n",
    "    if os.path.isfile(he_img_general_path[img_index]):\n",
    "        img_path = he_img_general_path[img_index]\n",
    "        \n",
    "        eval_img_path = os.path.join(PVQA_EVAL_DATA_PATH, he_img_general[img_index] + '.jpg')\n",
    "        \n",
    "    shutil.copyfile(img_path, eval_img_path)"
   ]
  },
  {
   "cell_type": "markdown",
   "metadata": {},
   "source": [
    "Combining all the data and saving it in excel file"
   ]
  },
  {
   "cell_type": "code",
   "execution_count": 10,
   "metadata": {},
   "outputs": [],
   "source": [
    "final_df = pd.DataFrame({'Image ID': image_id, 'Question': question, 'Answer': answer})"
   ]
  },
  {
   "cell_type": "code",
   "execution_count": 11,
   "metadata": {},
   "outputs": [
    {
     "data": {
      "text/html": [
       "<div>\n",
       "<style scoped>\n",
       "    .dataframe tbody tr th:only-of-type {\n",
       "        vertical-align: middle;\n",
       "    }\n",
       "\n",
       "    .dataframe tbody tr th {\n",
       "        vertical-align: top;\n",
       "    }\n",
       "\n",
       "    .dataframe thead th {\n",
       "        text-align: right;\n",
       "    }\n",
       "</style>\n",
       "<table border=\"1\" class=\"dataframe\">\n",
       "  <thead>\n",
       "    <tr style=\"text-align: right;\">\n",
       "      <th></th>\n",
       "      <th>Image ID</th>\n",
       "      <th>Question</th>\n",
       "      <th>Answer</th>\n",
       "    </tr>\n",
       "  </thead>\n",
       "  <tbody>\n",
       "    <tr>\n",
       "      <th>0</th>\n",
       "      <td>val_0000</td>\n",
       "      <td>What has pseudohyphae and budding yeasts?</td>\n",
       "      <td>candida organism</td>\n",
       "    </tr>\n",
       "    <tr>\n",
       "      <th>1</th>\n",
       "      <td>val_0000</td>\n",
       "      <td>What does candida organism have?</td>\n",
       "      <td>pseudohyphae and budding yeasts</td>\n",
       "    </tr>\n",
       "    <tr>\n",
       "      <th>2</th>\n",
       "      <td>val_0000</td>\n",
       "      <td>What shows septate hyphae with acute-angle bra...</td>\n",
       "      <td>gomori methenamine-silver (gms) stain</td>\n",
       "    </tr>\n",
       "    <tr>\n",
       "      <th>3</th>\n",
       "      <td>val_0000</td>\n",
       "      <td>What does gomori methenamine-silver (GMS) stai...</td>\n",
       "      <td>septate hyphae with acute-angle branching</td>\n",
       "    </tr>\n",
       "    <tr>\n",
       "      <th>4</th>\n",
       "      <td>val_0000</td>\n",
       "      <td>How does gomori methenamine-silver (GMS) stain...</td>\n",
       "      <td>with acute-angle branching</td>\n",
       "    </tr>\n",
       "    <tr>\n",
       "      <th>...</th>\n",
       "      <td>...</td>\n",
       "      <td>...</td>\n",
       "      <td>...</td>\n",
       "    </tr>\n",
       "    <tr>\n",
       "      <th>3139</th>\n",
       "      <td>val_0990</td>\n",
       "      <td>What are present?</td>\n",
       "      <td>extremities</td>\n",
       "    </tr>\n",
       "    <tr>\n",
       "      <th>3140</th>\n",
       "      <td>val_0990</td>\n",
       "      <td>What are present ?</td>\n",
       "      <td>extremities</td>\n",
       "    </tr>\n",
       "    <tr>\n",
       "      <th>3141</th>\n",
       "      <td>val_0991</td>\n",
       "      <td>What does this image show?</td>\n",
       "      <td>disseminated intravascular coagulation dic</td>\n",
       "    </tr>\n",
       "    <tr>\n",
       "      <th>3142</th>\n",
       "      <td>val_0991</td>\n",
       "      <td>What is present?</td>\n",
       "      <td>eye</td>\n",
       "    </tr>\n",
       "    <tr>\n",
       "      <th>3143</th>\n",
       "      <td>val_0991</td>\n",
       "      <td>What is present ?</td>\n",
       "      <td>Eye</td>\n",
       "    </tr>\n",
       "  </tbody>\n",
       "</table>\n",
       "<p>3144 rows × 3 columns</p>\n",
       "</div>"
      ],
      "text/plain": [
       "      Image ID                                           Question  \\\n",
       "0     val_0000          What has pseudohyphae and budding yeasts?   \n",
       "1     val_0000                   What does candida organism have?   \n",
       "2     val_0000  What shows septate hyphae with acute-angle bra...   \n",
       "3     val_0000  What does gomori methenamine-silver (GMS) stai...   \n",
       "4     val_0000  How does gomori methenamine-silver (GMS) stain...   \n",
       "...        ...                                                ...   \n",
       "3139  val_0990                                  What are present?   \n",
       "3140  val_0990                                 What are present ?   \n",
       "3141  val_0991                         What does this image show?   \n",
       "3142  val_0991                                   What is present?   \n",
       "3143  val_0991                                  What is present ?   \n",
       "\n",
       "                                          Answer  \n",
       "0                               candida organism  \n",
       "1                pseudohyphae and budding yeasts  \n",
       "2          gomori methenamine-silver (gms) stain  \n",
       "3      septate hyphae with acute-angle branching  \n",
       "4                     with acute-angle branching  \n",
       "...                                          ...  \n",
       "3139                                 extremities  \n",
       "3140                                 extremities  \n",
       "3141  disseminated intravascular coagulation dic  \n",
       "3142                                         eye  \n",
       "3143                                         Eye  \n",
       "\n",
       "[3144 rows x 3 columns]"
      ]
     },
     "execution_count": 11,
     "metadata": {},
     "output_type": "execute_result"
    }
   ],
   "source": [
    "final_df"
   ]
  },
  {
   "cell_type": "code",
   "execution_count": 12,
   "metadata": {},
   "outputs": [],
   "source": [
    "final_df.to_excel('pvqa-evaluation.xlsx')"
   ]
  },
  {
   "cell_type": "code",
   "execution_count": null,
   "metadata": {},
   "outputs": [],
   "source": []
  }
 ],
 "metadata": {
  "kernelspec": {
   "display_name": "path-rag",
   "language": "python",
   "name": "python3"
  },
  "language_info": {
   "codemirror_mode": {
    "name": "ipython",
    "version": 3
   },
   "file_extension": ".py",
   "mimetype": "text/x-python",
   "name": "python",
   "nbconvert_exporter": "python",
   "pygments_lexer": "ipython3",
   "version": "3.9.19"
  }
 },
 "nbformat": 4,
 "nbformat_minor": 2
}
